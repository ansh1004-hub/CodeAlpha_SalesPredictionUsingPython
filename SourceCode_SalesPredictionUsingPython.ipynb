{
 "cells": [
  {
   "cell_type": "markdown",
   "id": "19c6ae5f-00d2-44b0-a521-8f846ef2f11c",
   "metadata": {},
   "source": [
    "# SALES PREDICTION USING PYTHON"
   ]
  },
  {
   "cell_type": "markdown",
   "id": "c26c5290-c63e-47f0-8459-e7093b2196ee",
   "metadata": {},
   "source": [
    "## INTRODUCTION \n",
    "This Jupyter Notebook presents a machine learning project focused on predicting product sales based on advertising expenditures. In today's competitive market, understanding the impact of marketing efforts is crucial for businesses to optimize their spending and maximize revenue. This project aims to build a robust predictive model that can forecast sales, thereby assisting in strategic decision-making for advertising campaigns.\n",
    "\n",
    "Dataset Overview\n",
    "The dataset used in this project contains historical advertising spend data across three different media channels:\n",
    "TV: Budget allocated for television advertisements.\n",
    "Radio: Budget allocated for radio advertisements.\n",
    "Newspaper: Budget allocated for newspaper advertisements.\n",
    "Sales: The corresponding sales figures achieved.\n",
    "\n",
    "Each entry in the dataset represents a specific period (e.g., a month or quarter), detailing the spend in each channel and the resulting sales. This tabular data allows us to analyze how changes in advertising budgets influence sales performance.\n",
    "\n",
    "By using the Linear Regression Model we will predict the sale of the appliances."
   ]
  },
  {
   "cell_type": "markdown",
   "id": "7734bef0-d4b3-49fd-8a5f-3ae508d99de4",
   "metadata": {},
   "source": [
    "## IMPORTING ESSENTIAL LIBRARIES "
   ]
  },
  {
   "cell_type": "code",
   "execution_count": 83,
   "id": "3f17f951-9092-4f2b-b383-acdb1f89cfab",
   "metadata": {},
   "outputs": [],
   "source": [
    "import numpy as np \n",
    "import pandas as pd \n",
    "import matplotlib.pyplot as plt \n",
    "import seaborn as sns "
   ]
  },
  {
   "cell_type": "markdown",
   "id": "67d02541-badb-4698-9649-ea56bc3f8eba",
   "metadata": {},
   "source": [
    "## LOADING DATA"
   ]
  },
  {
   "cell_type": "code",
   "execution_count": 84,
   "id": "8c6478d2-0a26-4413-8444-df3e53c1b18f",
   "metadata": {},
   "outputs": [
    {
     "data": {
      "text/html": [
       "<div>\n",
       "<style scoped>\n",
       "    .dataframe tbody tr th:only-of-type {\n",
       "        vertical-align: middle;\n",
       "    }\n",
       "\n",
       "    .dataframe tbody tr th {\n",
       "        vertical-align: top;\n",
       "    }\n",
       "\n",
       "    .dataframe thead th {\n",
       "        text-align: right;\n",
       "    }\n",
       "</style>\n",
       "<table border=\"1\" class=\"dataframe\">\n",
       "  <thead>\n",
       "    <tr style=\"text-align: right;\">\n",
       "      <th></th>\n",
       "      <th>Unnamed: 0</th>\n",
       "      <th>TV</th>\n",
       "      <th>Radio</th>\n",
       "      <th>Newspaper</th>\n",
       "      <th>Sales</th>\n",
       "    </tr>\n",
       "  </thead>\n",
       "  <tbody>\n",
       "    <tr>\n",
       "      <th>0</th>\n",
       "      <td>1</td>\n",
       "      <td>230.1</td>\n",
       "      <td>37.8</td>\n",
       "      <td>69.2</td>\n",
       "      <td>22.1</td>\n",
       "    </tr>\n",
       "    <tr>\n",
       "      <th>1</th>\n",
       "      <td>2</td>\n",
       "      <td>44.5</td>\n",
       "      <td>39.3</td>\n",
       "      <td>45.1</td>\n",
       "      <td>10.4</td>\n",
       "    </tr>\n",
       "    <tr>\n",
       "      <th>2</th>\n",
       "      <td>3</td>\n",
       "      <td>17.2</td>\n",
       "      <td>45.9</td>\n",
       "      <td>69.3</td>\n",
       "      <td>9.3</td>\n",
       "    </tr>\n",
       "    <tr>\n",
       "      <th>3</th>\n",
       "      <td>4</td>\n",
       "      <td>151.5</td>\n",
       "      <td>41.3</td>\n",
       "      <td>58.5</td>\n",
       "      <td>18.5</td>\n",
       "    </tr>\n",
       "    <tr>\n",
       "      <th>4</th>\n",
       "      <td>5</td>\n",
       "      <td>180.8</td>\n",
       "      <td>10.8</td>\n",
       "      <td>58.4</td>\n",
       "      <td>12.9</td>\n",
       "    </tr>\n",
       "  </tbody>\n",
       "</table>\n",
       "</div>"
      ],
      "text/plain": [
       "   Unnamed: 0     TV  Radio  Newspaper  Sales\n",
       "0           1  230.1   37.8       69.2   22.1\n",
       "1           2   44.5   39.3       45.1   10.4\n",
       "2           3   17.2   45.9       69.3    9.3\n",
       "3           4  151.5   41.3       58.5   18.5\n",
       "4           5  180.8   10.8       58.4   12.9"
      ]
     },
     "execution_count": 84,
     "metadata": {},
     "output_type": "execute_result"
    }
   ],
   "source": [
    "df = pd.read_csv('advertise.data.csv')\n",
    "df.head()"
   ]
  },
  {
   "cell_type": "markdown",
   "id": "e97181ec-29d0-49b2-9ec6-1d0505f3f7a3",
   "metadata": {},
   "source": [
    "## Shape of data "
   ]
  },
  {
   "cell_type": "code",
   "execution_count": 85,
   "id": "a61174e5-5b1c-493f-b246-c995b5ba23d8",
   "metadata": {},
   "outputs": [
    {
     "data": {
      "text/plain": [
       "(200, 5)"
      ]
     },
     "execution_count": 85,
     "metadata": {},
     "output_type": "execute_result"
    }
   ],
   "source": [
    "df.shape"
   ]
  },
  {
   "cell_type": "markdown",
   "id": "71fd0ed1-0af4-4324-be58-c45d8229760a",
   "metadata": {},
   "source": [
    "## Description of data \n"
   ]
  },
  {
   "cell_type": "code",
   "execution_count": 86,
   "id": "c48fae92-07bf-4af3-9257-a52969dc1ae2",
   "metadata": {},
   "outputs": [
    {
     "data": {
      "text/html": [
       "<div>\n",
       "<style scoped>\n",
       "    .dataframe tbody tr th:only-of-type {\n",
       "        vertical-align: middle;\n",
       "    }\n",
       "\n",
       "    .dataframe tbody tr th {\n",
       "        vertical-align: top;\n",
       "    }\n",
       "\n",
       "    .dataframe thead th {\n",
       "        text-align: right;\n",
       "    }\n",
       "</style>\n",
       "<table border=\"1\" class=\"dataframe\">\n",
       "  <thead>\n",
       "    <tr style=\"text-align: right;\">\n",
       "      <th></th>\n",
       "      <th>Unnamed: 0</th>\n",
       "      <th>TV</th>\n",
       "      <th>Radio</th>\n",
       "      <th>Newspaper</th>\n",
       "      <th>Sales</th>\n",
       "    </tr>\n",
       "  </thead>\n",
       "  <tbody>\n",
       "    <tr>\n",
       "      <th>count</th>\n",
       "      <td>200.000000</td>\n",
       "      <td>200.000000</td>\n",
       "      <td>200.000000</td>\n",
       "      <td>200.000000</td>\n",
       "      <td>200.000000</td>\n",
       "    </tr>\n",
       "    <tr>\n",
       "      <th>mean</th>\n",
       "      <td>100.500000</td>\n",
       "      <td>147.042500</td>\n",
       "      <td>23.264000</td>\n",
       "      <td>30.554000</td>\n",
       "      <td>14.022500</td>\n",
       "    </tr>\n",
       "    <tr>\n",
       "      <th>std</th>\n",
       "      <td>57.879185</td>\n",
       "      <td>85.854236</td>\n",
       "      <td>14.846809</td>\n",
       "      <td>21.778621</td>\n",
       "      <td>5.217457</td>\n",
       "    </tr>\n",
       "    <tr>\n",
       "      <th>min</th>\n",
       "      <td>1.000000</td>\n",
       "      <td>0.700000</td>\n",
       "      <td>0.000000</td>\n",
       "      <td>0.300000</td>\n",
       "      <td>1.600000</td>\n",
       "    </tr>\n",
       "    <tr>\n",
       "      <th>25%</th>\n",
       "      <td>50.750000</td>\n",
       "      <td>74.375000</td>\n",
       "      <td>9.975000</td>\n",
       "      <td>12.750000</td>\n",
       "      <td>10.375000</td>\n",
       "    </tr>\n",
       "    <tr>\n",
       "      <th>50%</th>\n",
       "      <td>100.500000</td>\n",
       "      <td>149.750000</td>\n",
       "      <td>22.900000</td>\n",
       "      <td>25.750000</td>\n",
       "      <td>12.900000</td>\n",
       "    </tr>\n",
       "    <tr>\n",
       "      <th>75%</th>\n",
       "      <td>150.250000</td>\n",
       "      <td>218.825000</td>\n",
       "      <td>36.525000</td>\n",
       "      <td>45.100000</td>\n",
       "      <td>17.400000</td>\n",
       "    </tr>\n",
       "    <tr>\n",
       "      <th>max</th>\n",
       "      <td>200.000000</td>\n",
       "      <td>296.400000</td>\n",
       "      <td>49.600000</td>\n",
       "      <td>114.000000</td>\n",
       "      <td>27.000000</td>\n",
       "    </tr>\n",
       "  </tbody>\n",
       "</table>\n",
       "</div>"
      ],
      "text/plain": [
       "       Unnamed: 0          TV       Radio   Newspaper       Sales\n",
       "count  200.000000  200.000000  200.000000  200.000000  200.000000\n",
       "mean   100.500000  147.042500   23.264000   30.554000   14.022500\n",
       "std     57.879185   85.854236   14.846809   21.778621    5.217457\n",
       "min      1.000000    0.700000    0.000000    0.300000    1.600000\n",
       "25%     50.750000   74.375000    9.975000   12.750000   10.375000\n",
       "50%    100.500000  149.750000   22.900000   25.750000   12.900000\n",
       "75%    150.250000  218.825000   36.525000   45.100000   17.400000\n",
       "max    200.000000  296.400000   49.600000  114.000000   27.000000"
      ]
     },
     "execution_count": 86,
     "metadata": {},
     "output_type": "execute_result"
    }
   ],
   "source": [
    "df.describe()"
   ]
  },
  {
   "cell_type": "markdown",
   "id": "95a0aa0a-8bc5-4ad2-8cd3-3a28998cb40b",
   "metadata": {},
   "source": [
    "## Checking for the basic info"
   ]
  },
  {
   "cell_type": "code",
   "execution_count": 87,
   "id": "ea9e40cb-2718-486d-8beb-84ba5ac8efc6",
   "metadata": {},
   "outputs": [
    {
     "name": "stdout",
     "output_type": "stream",
     "text": [
      "<class 'pandas.core.frame.DataFrame'>\n",
      "RangeIndex: 200 entries, 0 to 199\n",
      "Data columns (total 5 columns):\n",
      " #   Column      Non-Null Count  Dtype  \n",
      "---  ------      --------------  -----  \n",
      " 0   Unnamed: 0  200 non-null    int64  \n",
      " 1   TV          200 non-null    float64\n",
      " 2   Radio       200 non-null    float64\n",
      " 3   Newspaper   200 non-null    float64\n",
      " 4   Sales       200 non-null    float64\n",
      "dtypes: float64(4), int64(1)\n",
      "memory usage: 7.9 KB\n"
     ]
    }
   ],
   "source": [
    "df.info()"
   ]
  },
  {
   "cell_type": "markdown",
   "id": "3087facc-17c4-4e0f-984f-7e5030775deb",
   "metadata": {},
   "source": [
    "## checking for the null values "
   ]
  },
  {
   "cell_type": "code",
   "execution_count": 88,
   "id": "5fd54adf-44ab-42ce-97b3-85dfbe3b7c47",
   "metadata": {},
   "outputs": [
    {
     "data": {
      "text/plain": [
       "Unnamed: 0    0\n",
       "TV            0\n",
       "Radio         0\n",
       "Newspaper     0\n",
       "Sales         0\n",
       "dtype: int64"
      ]
     },
     "execution_count": 88,
     "metadata": {},
     "output_type": "execute_result"
    }
   ],
   "source": [
    "df.isnull().sum()"
   ]
  },
  {
   "cell_type": "markdown",
   "id": "8f4b5cb3-53f3-4739-8ae0-058a5bf4f331",
   "metadata": {},
   "source": [
    "## Basic Observation"
   ]
  },
  {
   "cell_type": "raw",
   "id": "d943702c-2bb1-44c3-ac80-2ab0870a414d",
   "metadata": {},
   "source": [
    "Average Expense spend is highest on TV \n",
    "Average Expense spend is lowest on Radio \n",
    "Max Sale is 27\n",
    "Min Sale is 1.6"
   ]
  },
  {
   "cell_type": "markdown",
   "id": "3c9e1436-318a-4bfb-8f10-21ebb8b6e6e6",
   "metadata": {},
   "source": [
    "## Pair Plot "
   ]
  },
  {
   "cell_type": "code",
   "execution_count": 89,
   "id": "aef0187d-8103-4554-9775-538a873dac9d",
   "metadata": {},
   "outputs": [
    {
     "data": {
      "text/plain": [
       "<seaborn.axisgrid.PairGrid at 0x146db5a02d0>"
      ]
     },
     "execution_count": 89,
     "metadata": {},
     "output_type": "execute_result"
    },
    {
     "data": {
      "image/png": "[encoded data removed]",
      "text/plain": [
       "<Figure size 750x250 with 3 Axes>"
      ]
     },
     "metadata": {},
     "output_type": "display_data"
    }
   ],
   "source": [
    "sns.pairplot(df,x_vars = ['TV', 'Radio', 'Newspaper'], y_vars='Sales', kind='scatter')"
   ]
  },
  {
   "cell_type": "markdown",
   "id": "f1688d95-d9c0-4568-85be-ae56640d97a7",
   "metadata": {},
   "source": [
    "## Pair PLot Observation "
   ]
  },
  {
   "cell_type": "raw",
   "id": "fb49494a-1662-4e6d-a57d-8bf523175725",
   "metadata": {},
   "source": [
    "When advertising cost increases in TV Ads the sales will increase as well .While for newspaper and radio it is bit unpredictable"
   ]
  },
  {
   "cell_type": "markdown",
   "id": "add7ba71-e7ab-46b1-9e1a-44b998f06451",
   "metadata": {},
   "source": [
    "## HISTOGRAM "
   ]
  },
  {
   "cell_type": "code",
   "execution_count": 90,
   "id": "e93a0b99-6f2a-4b5e-9017-e0e0e1efeb16",
   "metadata": {},
   "outputs": [
    {
     "data": {
      "text/plain": [
       "<Axes: xlabel='TV', ylabel='Frequency'>"
      ]
     },
     "execution_count": 90,
     "metadata": {},
     "output_type": "execute_result"
    },
    {
     "data": {
      "image/png": "[encoded data removed]",
      "text/plain": [
       "<Figure size 640x480 with 1 Axes>"
      ]
     },
     "metadata": {},
     "output_type": "display_data"
    }
   ],
   "source": [
    "df['TV'].plot.hist(bins=10,xlabel='TV')"
   ]
  },
  {
   "cell_type": "code",
   "execution_count": 91,
   "id": "9e2905c2-99eb-4b04-819c-9c2cb6cfc40a",
   "metadata": {},
   "outputs": [
    {
     "data": {
      "text/plain": [
       "<Axes: xlabel='Radio', ylabel='Frequency'>"
      ]
     },
     "execution_count": 91,
     "metadata": {},
     "output_type": "execute_result"
    },
    {
     "data": {
      "image/png": "[encoded data removed]",
      "text/plain": [
       "<Figure size 640x480 with 1 Axes>"
      ]
     },
     "metadata": {},
     "output_type": "display_data"
    }
   ],
   "source": [
    "df['Radio'].plot.hist(bins=10,color='green',xlabel='Radio')"
   ]
  },
  {
   "cell_type": "code",
   "execution_count": 92,
   "id": "a0010a2c-7cd2-4d15-ae83-b8c8674cbb92",
   "metadata": {},
   "outputs": [
    {
     "data": {
      "text/plain": [
       "<Axes: xlabel='Newspaper', ylabel='Frequency'>"
      ]
     },
     "execution_count": 92,
     "metadata": {},
     "output_type": "execute_result"
    },
    {
     "data": {
      "image/png": "[encoded data removed]",
      "text/plain": [
       "<Figure size 640x480 with 1 Axes>"
      ]
     },
     "metadata": {},
     "output_type": "display_data"
    }
   ],
   "source": [
    "df['Newspaper'].plot.hist(bins=10,color='violet',xlabel='Newspaper')"
   ]
  },
  {
   "cell_type": "markdown",
   "id": "7446907b-f004-4ad9-a874-ab84bbe6fac0",
   "metadata": {},
   "source": [
    "## HISTOGRAM OPBSERVATION "
   ]
  },
  {
   "cell_type": "raw",
   "id": "ad10116c-8cbc-4528-9f96-0e169174322e",
   "metadata": {},
   "source": [
    "The majority Sales is the result of low advertising cost in Newspaper "
   ]
  },
  {
   "cell_type": "markdown",
   "id": "b31cfe4e-ede4-4dff-95ad-58099dac9f39",
   "metadata": {},
   "source": [
    "## HEAT MAP"
   ]
  },
  {
   "cell_type": "code",
   "execution_count": 93,
   "id": "65a9f458-2cf8-4bcc-b2ab-e66ead2d4450",
   "metadata": {},
   "outputs": [
    {
     "data": {
      "text/plain": [
       "<Axes: >"
      ]
     },
     "execution_count": 93,
     "metadata": {},
     "output_type": "execute_result"
    },
    {
     "data": {
      "image/png": "[encoded data removed]",
      "text/plain": [
       "<Figure size 640x480 with 2 Axes>"
      ]
     },
     "metadata": {},
     "output_type": "display_data"
    }
   ],
   "source": [
    "sns.heatmap(df.corr(),annot = True)"
   ]
  },
  {
   "cell_type": "markdown",
   "id": "1ea103e3-7d28-4378-bbd9-4659847d7fe6",
   "metadata": {},
   "source": [
    "## FINAL OBSE5RVATION "
   ]
  },
  {
   "cell_type": "raw",
   "id": "6b89f504-36e4-4392-bbba-cbecddfb623f",
   "metadata": {},
   "source": [
    "Sales is highly correlated with the TV "
   ]
  },
  {
   "cell_type": "markdown",
   "id": "1d2650b9-7383-4bf1-88cf-8f19adeb13f1",
   "metadata": {},
   "source": [
    "## SPLITTING THE DATA "
   ]
  },
  {
   "cell_type": "code",
   "execution_count": 94,
   "id": "afcc793b-b4ed-4c52-b5cc-007b6c87fbc5",
   "metadata": {},
   "outputs": [],
   "source": [
    "#Splitting of data into training daa and test data  \n",
    "from sklearn.model_selection import train_test_split \n",
    "\n",
    "X = df[['TV', 'Radio', 'Newspaper']]\n",
    "Y = df['Sales']\n",
    "X_train,X_test,Y_train,Y_test = train_test_split(X,Y,test_size=0.3 ,random_state = 0)"
   ]
  },
  {
   "cell_type": "code",
   "execution_count": 95,
   "id": "1c058e39-092c-4319-b74d-034237e5be97",
   "metadata": {},
   "outputs": [
    {
     "name": "stdout",
     "output_type": "stream",
     "text": [
      "        TV  Radio  Newspaper\n",
      "131  265.2    2.9       43.0\n",
      "96   197.6    3.5        5.9\n",
      "181  218.5    5.4       27.4\n",
      "19   147.3   23.9       19.1\n",
      "153  171.3   39.7       37.7\n",
      "..     ...    ...        ...\n",
      "67   139.3   14.5       10.2\n",
      "192   17.2    4.1       31.6\n",
      "117   76.4    0.8       14.8\n",
      "47   239.9   41.5       18.5\n",
      "172   19.6   20.1       17.0\n",
      "\n",
      "[140 rows x 3 columns]\n"
     ]
    }
   ],
   "source": [
    "print(X_train)"
   ]
  },
  {
   "cell_type": "code",
   "execution_count": 96,
   "id": "a44e12f5-4886-4da4-a8ea-cea15624ef51",
   "metadata": {},
   "outputs": [
    {
     "name": "stdout",
     "output_type": "stream",
     "text": [
      "131    12.7\n",
      "96     11.7\n",
      "181    12.2\n",
      "19     14.6\n",
      "153    19.0\n",
      "       ... \n",
      "67     13.4\n",
      "192     5.9\n",
      "117     9.4\n",
      "47     23.2\n",
      "172     7.6\n",
      "Name: Sales, Length: 140, dtype: float64\n"
     ]
    }
   ],
   "source": [
    "print(Y_train)"
   ]
  },
  {
   "cell_type": "code",
   "execution_count": 97,
   "id": "b381b265-0cb0-4c96-b299-ee4b7f3ead55",
   "metadata": {},
   "outputs": [
    {
     "name": "stdout",
     "output_type": "stream",
     "text": [
      "        TV  Radio  Newspaper\n",
      "18    69.2   20.5       18.3\n",
      "170   50.0   11.6       18.4\n",
      "107   90.4    0.3       23.2\n",
      "98   289.7   42.3       51.2\n",
      "177  170.2    7.8       35.2\n",
      "182   56.2    5.7       29.7\n",
      "5      8.7   48.9       75.0\n",
      "146  240.1    7.3        8.7\n",
      "12    23.8   35.1       65.9\n",
      "152  197.6   23.3       14.2\n",
      "61   261.3   42.7       54.7\n",
      "125   87.2   11.8       25.9\n",
      "180  156.6    2.6        8.3\n",
      "154  187.8   21.1        9.5\n",
      "80    76.4   26.7       22.3\n",
      "7    120.2   19.6       11.6\n",
      "33   265.6   20.0        0.3\n",
      "130    0.7   39.6        8.7\n",
      "37    74.7   49.4       45.7\n",
      "74   213.4   24.6       13.1\n",
      "183  287.6   43.0       71.8\n",
      "145  140.3    1.9        9.0\n",
      "45   175.1   22.5       31.5\n",
      "159  131.7   18.4       34.6\n",
      "60    53.5    2.0       21.4\n",
      "123  123.1   34.6       12.4\n",
      "179  165.6   10.0       17.6\n",
      "185  205.0   45.1       19.6\n",
      "122  224.0    2.4       15.6\n",
      "44    25.1   25.7       43.3\n",
      "16    67.8   36.6      114.0\n",
      "55   198.9   49.4       60.0\n",
      "150  280.7   13.9       37.0\n",
      "111  241.7   38.0       23.2\n",
      "22    13.2   15.9       49.6\n",
      "189   18.7   12.1       23.4\n",
      "129   59.6   12.0       43.1\n",
      "4    180.8   10.8       58.4\n",
      "83    68.4   44.5       35.6\n",
      "106   25.0   11.0       29.7\n",
      "134   36.9   38.6       65.6\n",
      "66    31.5   24.6        2.2\n",
      "26   142.9   29.3       12.6\n",
      "113  209.6   20.6       10.7\n",
      "168  215.4   23.6       57.6\n",
      "63   102.7   29.6        8.4\n",
      "8      8.6    2.1        1.0\n",
      "75    16.9   43.7       89.4\n",
      "118  125.7   36.9       79.2\n",
      "143  104.6    5.7       34.4\n",
      "71   109.8   14.3       31.7\n",
      "124  229.5   32.3       74.2\n",
      "184  253.8   21.3       30.0\n",
      "97   184.9   21.0       22.0\n",
      "149   44.7   25.8       20.6\n",
      "24    62.3   12.6       18.3\n",
      "30   292.9   28.3       43.2\n",
      "160  172.5   18.1       30.7\n",
      "40   202.5   22.3       31.6\n",
      "56     7.3   28.1       41.4\n"
     ]
    }
   ],
   "source": [
    "print(X_test)"
   ]
  },
  {
   "cell_type": "code",
   "execution_count": 98,
   "id": "c6722d8e-91cf-484e-8bf6-03608e762253",
   "metadata": {},
   "outputs": [
    {
     "name": "stdout",
     "output_type": "stream",
     "text": [
      "18     11.3\n",
      "170     8.4\n",
      "107     8.7\n",
      "98     25.4\n",
      "177    11.7\n",
      "182     8.7\n",
      "5       7.2\n",
      "146    13.2\n",
      "12      9.2\n",
      "152    16.6\n",
      "61     24.2\n",
      "125    10.6\n",
      "180    10.5\n",
      "154    15.6\n",
      "80     11.8\n",
      "7      13.2\n",
      "33     17.4\n",
      "130     1.6\n",
      "37     14.7\n",
      "74     17.0\n",
      "183    26.2\n",
      "145    10.3\n",
      "45     14.9\n",
      "159    12.9\n",
      "60      8.1\n",
      "123    15.2\n",
      "179    12.6\n",
      "185    22.6\n",
      "122    11.6\n",
      "44      8.5\n",
      "16     12.5\n",
      "55     23.7\n",
      "150    16.1\n",
      "111    21.8\n",
      "22      5.6\n",
      "189     6.7\n",
      "129     9.7\n",
      "4      12.9\n",
      "83     13.6\n",
      "106     7.2\n",
      "134    10.8\n",
      "66      9.5\n",
      "26     15.0\n",
      "113    15.9\n",
      "168    17.1\n",
      "63     14.0\n",
      "8       4.8\n",
      "75      8.7\n",
      "118    15.9\n",
      "143    10.4\n",
      "71     12.4\n",
      "124    19.7\n",
      "184    17.6\n",
      "97     15.5\n",
      "149    10.1\n",
      "24      9.7\n",
      "30     21.4\n",
      "160    14.4\n",
      "40     16.6\n",
      "56      5.5\n",
      "Name: Sales, dtype: float64\n"
     ]
    }
   ],
   "source": [
    "print(Y_test)"
   ]
  },
  {
   "cell_type": "markdown",
   "id": "4fb78697-358c-4cab-91ec-74f4e0e66a40",
   "metadata": {},
   "source": [
    "## TRAINING OF THE MODEL USING LINEAR REGRESSION MODEL"
   ]
  },
  {
   "cell_type": "code",
   "execution_count": 99,
   "id": "a9e648ea-a2c3-4a24-9ef6-80541782888e",
   "metadata": {},
   "outputs": [
    {
     "data": {
      "text/html": [
       "<style>#sk-container-id-4 {\n",
       "  /* Definition of color scheme common for light and dark mode */\n",
       "  --sklearn-color-text: #000;\n",
       "  --sklearn-color-text-muted: #666;\n",
       "  --sklearn-color-line: gray;\n",
       "  /* Definition of color scheme for unfitted estimators */\n",
       "  --sklearn-color-unfitted-level-0: #fff5e6;\n",
       "  --sklearn-color-unfitted-level-1: #f6e4d2;\n",
       "  --sklearn-color-unfitted-level-2: #ffe0b3;\n",
       "  --sklearn-color-unfitted-level-3: chocolate;\n",
       "  /* Definition of color scheme for fitted estimators */\n",
       "  --sklearn-color-fitted-level-0: #f0f8ff;\n",
       "  --sklearn-color-fitted-level-1: #d4ebff;\n",
       "  --sklearn-color-fitted-level-2: #b3dbfd;\n",
       "  --sklearn-color-fitted-level-3: cornflowerblue;\n",
       "\n",
       "  /* Specific color for light theme */\n",
       "  --sklearn-color-text-on-default-background: var(--sg-text-color, var(--theme-code-foreground, var(--jp-content-font-color1, black)));\n",
       "  --sklearn-color-background: var(--sg-background-color, var(--theme-background, var(--jp-layout-color0, white)));\n",
       "  --sklearn-color-border-box: var(--sg-text-color, var(--theme-code-foreground, var(--jp-content-font-color1, black)));\n",
       "  --sklearn-color-icon: #696969;\n",
       "\n",
       "  @media (prefers-color-scheme: dark) {\n",
       "    /* Redefinition of color scheme for dark theme */\n",
       "    --sklearn-color-text-on-default-background: var(--sg-text-color, var(--theme-code-foreground, var(--jp-content-font-color1, white)));\n",
       "    --sklearn-color-background: var(--sg-background-color, var(--theme-background, var(--jp-layout-color0, #111)));\n",
       "    --sklearn-color-border-box: var(--sg-text-color, var(--theme-code-foreground, var(--jp-content-font-color1, white)));\n",
       "    --sklearn-color-icon: #878787;\n",
       "  }\n",
       "}\n",
       "\n",
       "#sk-container-id-4 {\n",
       "  color: var(--sklearn-color-text);\n",
       "}\n",
       "\n",
       "#sk-container-id-4 pre {\n",
       "  padding: 0;\n",
       "}\n",
       "\n",
       "#sk-container-id-4 input.sk-hidden--visually {\n",
       "  border: 0;\n",
       "  clip: rect(1px 1px 1px 1px);\n",
       "  clip: rect(1px, 1px, 1px, 1px);\n",
       "  height: 1px;\n",
       "  margin: -1px;\n",
       "  overflow: hidden;\n",
       "  padding: 0;\n",
       "  position: absolute;\n",
       "  width: 1px;\n",
       "}\n",
       "\n",
       "#sk-container-id-4 div.sk-dashed-wrapped {\n",
       "  border: 1px dashed var(--sklearn-color-line);\n",
       "  margin: 0 0.4em 0.5em 0.4em;\n",
       "  box-sizing: border-box;\n",
       "  padding-bottom: 0.4em;\n",
       "  background-color: var(--sklearn-color-background);\n",
       "}\n",
       "\n",
       "#sk-container-id-4 div.sk-container {\n",
       "  /* jupyter's `normalize.less` sets `[hidden] { display: none; }`\n",
       "     but bootstrap.min.css set `[hidden] { display: none !important; }`\n",
       "     so we also need the `!important` here to be able to override the\n",
       "     default hidden behavior on the sphinx rendered scikit-learn.org.\n",
       "     See: https://github.com/scikit-learn/scikit-learn/issues/21755 */\n",
       "  display: inline-block !important;\n",
       "  position: relative;\n",
       "}\n",
       "\n",
       "#sk-container-id-4 div.sk-text-repr-fallback {\n",
       "  display: none;\n",
       "}\n",
       "\n",
       "div.sk-parallel-item,\n",
       "div.sk-serial,\n",
       "div.sk-item {\n",
       "  /* draw centered vertical line to link estimators */\n",
       "  background-image: linear-gradient(var(--sklearn-color-text-on-default-background), var(--sklearn-color-text-on-default-background));\n",
       "  background-size: 2px 100%;\n",
       "  background-repeat: no-repeat;\n",
       "  background-position: center center;\n",
       "}\n",
       "\n",
       "/* Parallel-specific style estimator block */\n",
       "\n",
       "#sk-container-id-4 div.sk-parallel-item::after {\n",
       "  content: \"\";\n",
       "  width: 100%;\n",
       "  border-bottom: 2px solid var(--sklearn-color-text-on-default-background);\n",
       "  flex-grow: 1;\n",
       "}\n",
       "\n",
       "#sk-container-id-4 div.sk-parallel {\n",
       "  display: flex;\n",
       "  align-items: stretch;\n",
       "  justify-content: center;\n",
       "  background-color: var(--sklearn-color-background);\n",
       "  position: relative;\n",
       "}\n",
       "\n",
       "#sk-container-id-4 div.sk-parallel-item {\n",
       "  display: flex;\n",
       "  flex-direction: column;\n",
       "}\n",
       "\n",
       "#sk-container-id-4 div.sk-parallel-item:first-child::after {\n",
       "  align-self: flex-end;\n",
       "  width: 50%;\n",
       "}\n",
       "\n",
       "#sk-container-id-4 div.sk-parallel-item:last-child::after {\n",
       "  align-self: flex-start;\n",
       "  width: 50%;\n",
       "}\n",
       "\n",
       "#sk-container-id-4 div.sk-parallel-item:only-child::after {\n",
       "  width: 0;\n",
       "}\n",
       "\n",
       "/* Serial-specific style estimator block */\n",
       "\n",
       "#sk-container-id-4 div.sk-serial {\n",
       "  display: flex;\n",
       "  flex-direction: column;\n",
       "  align-items: center;\n",
       "  background-color: var(--sklearn-color-background);\n",
       "  padding-right: 1em;\n",
       "  padding-left: 1em;\n",
       "}\n",
       "\n",
       "\n",
       "/* Toggleable style: style used for estimator/Pipeline/ColumnTransformer box that is\n",
       "clickable and can be expanded/collapsed.\n",
       "- Pipeline and ColumnTransformer use this feature and define the default style\n",
       "- Estimators will overwrite some part of the style using the `sk-estimator` class\n",
       "*/\n",
       "\n",
       "/* Pipeline and ColumnTransformer style (default) */\n",
       "\n",
       "#sk-container-id-4 div.sk-toggleable {\n",
       "  /* Default theme specific background. It is overwritten whether we have a\n",
       "  specific estimator or a Pipeline/ColumnTransformer */\n",
       "  background-color: var(--sklearn-color-background);\n",
       "}\n",
       "\n",
       "/* Toggleable label */\n",
       "#sk-container-id-4 label.sk-toggleable__label {\n",
       "  cursor: pointer;\n",
       "  display: flex;\n",
       "  width: 100%;\n",
       "  margin-bottom: 0;\n",
       "  padding: 0.5em;\n",
       "  box-sizing: border-box;\n",
       "  text-align: center;\n",
       "  align-items: start;\n",
       "  justify-content: space-between;\n",
       "  gap: 0.5em;\n",
       "}\n",
       "\n",
       "#sk-container-id-4 label.sk-toggleable__label .caption {\n",
       "  font-size: 0.6rem;\n",
       "  font-weight: lighter;\n",
       "  color: var(--sklearn-color-text-muted);\n",
       "}\n",
       "\n",
       "#sk-container-id-4 label.sk-toggleable__label-arrow:before {\n",
       "  /* Arrow on the left of the label */\n",
       "  content: \"▸\";\n",
       "  float: left;\n",
       "  margin-right: 0.25em;\n",
       "  color: var(--sklearn-color-icon);\n",
       "}\n",
       "\n",
       "#sk-container-id-4 label.sk-toggleable__label-arrow:hover:before {\n",
       "  color: var(--sklearn-color-text);\n",
       "}\n",
       "\n",
       "/* Toggleable content - dropdown */\n",
       "\n",
       "#sk-container-id-4 div.sk-toggleable__content {\n",
       "  max-height: 0;\n",
       "  max-width: 0;\n",
       "  overflow: hidden;\n",
       "  text-align: left;\n",
       "  /* unfitted */\n",
       "  background-color: var(--sklearn-color-unfitted-level-0);\n",
       "}\n",
       "\n",
       "#sk-container-id-4 div.sk-toggleable__content.fitted {\n",
       "  /* fitted */\n",
       "  background-color: var(--sklearn-color-fitted-level-0);\n",
       "}\n",
       "\n",
       "#sk-container-id-4 div.sk-toggleable__content pre {\n",
       "  margin: 0.2em;\n",
       "  border-radius: 0.25em;\n",
       "  color: var(--sklearn-color-text);\n",
       "  /* unfitted */\n",
       "  background-color: var(--sklearn-color-unfitted-level-0);\n",
       "}\n",
       "\n",
       "#sk-container-id-4 div.sk-toggleable__content.fitted pre {\n",
       "  /* unfitted */\n",
       "  background-color: var(--sklearn-color-fitted-level-0);\n",
       "}\n",
       "\n",
       "#sk-container-id-4 input.sk-toggleable__control:checked~div.sk-toggleable__content {\n",
       "  /* Expand drop-down */\n",
       "  max-height: 200px;\n",
       "  max-width: 100%;\n",
       "  overflow: auto;\n",
       "}\n",
       "\n",
       "#sk-container-id-4 input.sk-toggleable__control:checked~label.sk-toggleable__label-arrow:before {\n",
       "  content: \"▾\";\n",
       "}\n",
       "\n",
       "/* Pipeline/ColumnTransformer-specific style */\n",
       "\n",
       "#sk-container-id-4 div.sk-label input.sk-toggleable__control:checked~label.sk-toggleable__label {\n",
       "  color: var(--sklearn-color-text);\n",
       "  background-color: var(--sklearn-color-unfitted-level-2);\n",
       "}\n",
       "\n",
       "#sk-container-id-4 div.sk-label.fitted input.sk-toggleable__control:checked~label.sk-toggleable__label {\n",
       "  background-color: var(--sklearn-color-fitted-level-2);\n",
       "}\n",
       "\n",
       "/* Estimator-specific style */\n",
       "\n",
       "/* Colorize estimator box */\n",
       "#sk-container-id-4 div.sk-estimator input.sk-toggleable__control:checked~label.sk-toggleable__label {\n",
       "  /* unfitted */\n",
       "  background-color: var(--sklearn-color-unfitted-level-2);\n",
       "}\n",
       "\n",
       "#sk-container-id-4 div.sk-estimator.fitted input.sk-toggleable__control:checked~label.sk-toggleable__label {\n",
       "  /* fitted */\n",
       "  background-color: var(--sklearn-color-fitted-level-2);\n",
       "}\n",
       "\n",
       "#sk-container-id-4 div.sk-label label.sk-toggleable__label,\n",
       "#sk-container-id-4 div.sk-label label {\n",
       "  /* The background is the default theme color */\n",
       "  color: var(--sklearn-color-text-on-default-background);\n",
       "}\n",
       "\n",
       "/* On hover, darken the color of the background */\n",
       "#sk-container-id-4 div.sk-label:hover label.sk-toggleable__label {\n",
       "  color: var(--sklearn-color-text);\n",
       "  background-color: var(--sklearn-color-unfitted-level-2);\n",
       "}\n",
       "\n",
       "/* Label box, darken color on hover, fitted */\n",
       "#sk-container-id-4 div.sk-label.fitted:hover label.sk-toggleable__label.fitted {\n",
       "  color: var(--sklearn-color-text);\n",
       "  background-color: var(--sklearn-color-fitted-level-2);\n",
       "}\n",
       "\n",
       "/* Estimator label */\n",
       "\n",
       "#sk-container-id-4 div.sk-label label {\n",
       "  font-family: monospace;\n",
       "  font-weight: bold;\n",
       "  display: inline-block;\n",
       "  line-height: 1.2em;\n",
       "}\n",
       "\n",
       "#sk-container-id-4 div.sk-label-container {\n",
       "  text-align: center;\n",
       "}\n",
       "\n",
       "/* Estimator-specific */\n",
       "#sk-container-id-4 div.sk-estimator {\n",
       "  font-family: monospace;\n",
       "  border: 1px dotted var(--sklearn-color-border-box);\n",
       "  border-radius: 0.25em;\n",
       "  box-sizing: border-box;\n",
       "  margin-bottom: 0.5em;\n",
       "  /* unfitted */\n",
       "  background-color: var(--sklearn-color-unfitted-level-0);\n",
       "}\n",
       "\n",
       "#sk-container-id-4 div.sk-estimator.fitted {\n",
       "  /* fitted */\n",
       "  background-color: var(--sklearn-color-fitted-level-0);\n",
       "}\n",
       "\n",
       "/* on hover */\n",
       "#sk-container-id-4 div.sk-estimator:hover {\n",
       "  /* unfitted */\n",
       "  background-color: var(--sklearn-color-unfitted-level-2);\n",
       "}\n",
       "\n",
       "#sk-container-id-4 div.sk-estimator.fitted:hover {\n",
       "  /* fitted */\n",
       "  background-color: var(--sklearn-color-fitted-level-2);\n",
       "}\n",
       "\n",
       "/* Specification for estimator info (e.g. \"i\" and \"?\") */\n",
       "\n",
       "/* Common style for \"i\" and \"?\" */\n",
       "\n",
       ".sk-estimator-doc-link,\n",
       "a:link.sk-estimator-doc-link,\n",
       "a:visited.sk-estimator-doc-link {\n",
       "  float: right;\n",
       "  font-size: smaller;\n",
       "  line-height: 1em;\n",
       "  font-family: monospace;\n",
       "  background-color: var(--sklearn-color-background);\n",
       "  border-radius: 1em;\n",
       "  height: 1em;\n",
       "  width: 1em;\n",
       "  text-decoration: none !important;\n",
       "  margin-left: 0.5em;\n",
       "  text-align: center;\n",
       "  /* unfitted */\n",
       "  border: var(--sklearn-color-unfitted-level-1) 1pt solid;\n",
       "  color: var(--sklearn-color-unfitted-level-1);\n",
       "}\n",
       "\n",
       ".sk-estimator-doc-link.fitted,\n",
       "a:link.sk-estimator-doc-link.fitted,\n",
       "a:visited.sk-estimator-doc-link.fitted {\n",
       "  /* fitted */\n",
       "  border: var(--sklearn-color-fitted-level-1) 1pt solid;\n",
       "  color: var(--sklearn-color-fitted-level-1);\n",
       "}\n",
       "\n",
       "/* On hover */\n",
       "div.sk-estimator:hover .sk-estimator-doc-link:hover,\n",
       ".sk-estimator-doc-link:hover,\n",
       "div.sk-label-container:hover .sk-estimator-doc-link:hover,\n",
       ".sk-estimator-doc-link:hover {\n",
       "  /* unfitted */\n",
       "  background-color: var(--sklearn-color-unfitted-level-3);\n",
       "  color: var(--sklearn-color-background);\n",
       "  text-decoration: none;\n",
       "}\n",
       "\n",
       "div.sk-estimator.fitted:hover .sk-estimator-doc-link.fitted:hover,\n",
       ".sk-estimator-doc-link.fitted:hover,\n",
       "div.sk-label-container:hover .sk-estimator-doc-link.fitted:hover,\n",
       ".sk-estimator-doc-link.fitted:hover {\n",
       "  /* fitted */\n",
       "  background-color: var(--sklearn-color-fitted-level-3);\n",
       "  color: var(--sklearn-color-background);\n",
       "  text-decoration: none;\n",
       "}\n",
       "\n",
       "/* Span, style for the box shown on hovering the info icon */\n",
       ".sk-estimator-doc-link span {\n",
       "  display: none;\n",
       "  z-index: 9999;\n",
       "  position: relative;\n",
       "  font-weight: normal;\n",
       "  right: .2ex;\n",
       "  padding: .5ex;\n",
       "  margin: .5ex;\n",
       "  width: min-content;\n",
       "  min-width: 20ex;\n",
       "  max-width: 50ex;\n",
       "  color: var(--sklearn-color-text);\n",
       "  box-shadow: 2pt 2pt 4pt #999;\n",
       "  /* unfitted */\n",
       "  background: var(--sklearn-color-unfitted-level-0);\n",
       "  border: .5pt solid var(--sklearn-color-unfitted-level-3);\n",
       "}\n",
       "\n",
       ".sk-estimator-doc-link.fitted span {\n",
       "  /* fitted */\n",
       "  background: var(--sklearn-color-fitted-level-0);\n",
       "  border: var(--sklearn-color-fitted-level-3);\n",
       "}\n",
       "\n",
       ".sk-estimator-doc-link:hover span {\n",
       "  display: block;\n",
       "}\n",
       "\n",
       "/* \"?\"-specific style due to the `<a>` HTML tag */\n",
       "\n",
       "#sk-container-id-4 a.estimator_doc_link {\n",
       "  float: right;\n",
       "  font-size: 1rem;\n",
       "  line-height: 1em;\n",
       "  font-family: monospace;\n",
       "  background-color: var(--sklearn-color-background);\n",
       "  border-radius: 1rem;\n",
       "  height: 1rem;\n",
       "  width: 1rem;\n",
       "  text-decoration: none;\n",
       "  /* unfitted */\n",
       "  color: var(--sklearn-color-unfitted-level-1);\n",
       "  border: var(--sklearn-color-unfitted-level-1) 1pt solid;\n",
       "}\n",
       "\n",
       "#sk-container-id-4 a.estimator_doc_link.fitted {\n",
       "  /* fitted */\n",
       "  border: var(--sklearn-color-fitted-level-1) 1pt solid;\n",
       "  color: var(--sklearn-color-fitted-level-1);\n",
       "}\n",
       "\n",
       "/* On hover */\n",
       "#sk-container-id-4 a.estimator_doc_link:hover {\n",
       "  /* unfitted */\n",
       "  background-color: var(--sklearn-color-unfitted-level-3);\n",
       "  color: var(--sklearn-color-background);\n",
       "  text-decoration: none;\n",
       "}\n",
       "\n",
       "#sk-container-id-4 a.estimator_doc_link.fitted:hover {\n",
       "  /* fitted */\n",
       "  background-color: var(--sklearn-color-fitted-level-3);\n",
       "}\n",
       "</style><div id=\"sk-container-id-4\" class=\"sk-top-container\"><div class=\"sk-text-repr-fallback\"><pre>LinearRegression()</pre><b>In a Jupyter environment, please rerun this cell to show the HTML representation or trust the notebook. <br />On GitHub, the HTML representation is unable to render, please try loading this page with nbviewer.org.</b></div><div class=\"sk-container\" hidden><div class=\"sk-item\"><div class=\"sk-estimator fitted sk-toggleable\"><input class=\"sk-toggleable__control sk-hidden--visually\" id=\"sk-estimator-id-4\" type=\"checkbox\" checked><label for=\"sk-estimator-id-4\" class=\"sk-toggleable__label fitted sk-toggleable__label-arrow\"><div><div>LinearRegression</div></div><div><a class=\"sk-estimator-doc-link fitted\" rel=\"noreferrer\" target=\"_blank\" href=\"https://scikit-learn.org/1.6/modules/generated/sklearn.linear_model.LinearRegression.html\">?<span>Documentation for LinearRegression</span></a><span class=\"sk-estimator-doc-link fitted\">i<span>Fitted</span></span></div></label><div class=\"sk-toggleable__content fitted\"><pre>LinearRegression()</pre></div> </div></div></div></div>"
      ],
      "text/plain": [
       "LinearRegression()"
      ]
     },
     "execution_count": 99,
     "metadata": {},
     "output_type": "execute_result"
    }
   ],
   "source": [
    "## importing the Linear Regression model\n",
    "from sklearn.linear_model import LinearRegression \n",
    "model = LinearRegression()\n",
    "model.fit(X_train,Y_train)"
   ]
  },
  {
   "cell_type": "markdown",
   "id": "65791c48-fcc2-4b9a-b7ba-e97d69951b94",
   "metadata": {},
   "source": [
    "## MODEL EVALUATION "
   ]
  },
  {
   "cell_type": "code",
   "execution_count": 100,
   "id": "d4d9f2a9-2318-4df0-8d6d-c8f442025f62",
   "metadata": {},
   "outputs": [
    {
     "name": "stdout",
     "output_type": "stream",
     "text": [
      "--- Linear Regression Model Evaluation ---\n",
      "R-squared (Train): 0.9066\n",
      "R-squared (Test):  0.8649\n",
      "MAE (Train):       1.2502\n",
      "MAE (Test):        1.2334\n",
      "MSE (Train):       2.4864\n",
      "MSE (Test):        3.6914\n",
      "RMSE (Train):      1.5768\n",
      "RMSE (Test):       1.9213\n"
     ]
    }
   ],
   "source": [
    "from sklearn import metrics\n",
    "\n",
    "# --- Linear Regression Evaluation ---\n",
    "\n",
    "# Predictions on training data\n",
    "lin_reg_train_pred = model.predict(X_train)\n",
    "# Predictions on test data\n",
    "lin_reg_test_pred = model.predict(X_test)\n",
    "\n",
    "print(\"--- Linear Regression Model Evaluation ---\")\n",
    "\n",
    "# R squared Error\n",
    "r2_train_lin_reg = metrics.r2_score(Y_train, lin_reg_train_pred)\n",
    "r2_test_lin_reg = metrics.r2_score(Y_test, lin_reg_test_pred)\n",
    "print(f\"R-squared (Train): {r2_train_lin_reg:.4f}\")\n",
    "print(f\"R-squared (Test):  {r2_test_lin_reg:.4f}\")\n",
    "\n",
    "# Mean Absolute Error\n",
    "mae_train_lin_reg = metrics.mean_absolute_error(Y_train, lin_reg_train_pred)\n",
    "mae_test_lin_reg = metrics.mean_absolute_error(Y_test, lin_reg_test_pred)\n",
    "print(f\"MAE (Train):       {mae_train_lin_reg:.4f}\")\n",
    "print(f\"MAE (Test):        {mae_test_lin_reg:.4f}\")\n",
    "\n",
    "# Mean Squared Error\n",
    "mse_train_lin_reg = metrics.mean_squared_error(Y_train, lin_reg_train_pred)\n",
    "mse_test_lin_reg = metrics.mean_squared_error(Y_test, lin_reg_test_pred)\n",
    "print(f\"MSE (Train):       {mse_train_lin_reg:.4f}\")\n",
    "print(f\"MSE (Test):        {mse_test_lin_reg:.4f}\")\n",
    "\n",
    "# Root Mean Squared Error\n",
    "rmse_train_lin_reg = np.sqrt(mse_train_lin_reg)\n",
    "rmse_test_lin_reg = np.sqrt(mse_test_lin_reg)\n",
    "print(f\"RMSE (Train):      {rmse_train_lin_reg:.4f}\")\n",
    "print(f\"RMSE (Test):       {rmse_test_lin_reg:.4f}\")"
   ]
  },
  {
   "cell_type": "markdown",
   "id": "c3c4bd7c-22ab-498a-8830-232cd450a61b",
   "metadata": {},
   "source": [
    "## VISUALIZATION "
   ]
  },
  {
   "cell_type": "code",
   "execution_count": 101,
   "id": "d358d40a-6d2c-462f-9f2f-2ccdec37db84",
   "metadata": {},
   "outputs": [
    {
     "data": {
      "image/png": "[encoded data removed]",
      "text/plain": [
       "<Figure size 640x480 with 1 Axes>"
      ]
     },
     "metadata": {},
     "output_type": "display_data"
    }
   ],
   "source": [
    "#Visualize Actual vs. Predicted (Test Data)\n",
    "\n",
    "plt.scatter(Y_test, lin_reg_test_pred)\n",
    "plt.xlabel(\"Actual Sales\")\n",
    "plt.ylabel(\"Predicted Sales\")\n",
    "plt.title(\"Actual Sales vs. Predicted Sales (Linear Regression)\")\n",
    "plt.show()"
   ]
  },
  {
   "cell_type": "markdown",
   "id": "69230917-4efc-44a8-a266-cfc5b5d2674e",
   "metadata": {},
   "source": [
    "## TESTING OF THE DATA "
   ]
  },
  {
   "cell_type": "code",
   "execution_count": 102,
   "id": "e15137f8-8cfa-43ca-ac85-4b0238e405d9",
   "metadata": {},
   "outputs": [
    {
     "name": "stdout",
     "output_type": "stream",
     "text": [
      "Predicted Sales for TV=150, Radio=25, Newspaper=30 spend: 14.53\n"
     ]
    },
    {
     "name": "stderr",
     "output_type": "stream",
     "text": [
      "C:\\Users\\ANSH JAISWAL\\anaconda3\\Lib\\site-packages\\sklearn\\utils\\validation.py:2739: UserWarning: X does not have valid feature names, but LinearRegression was fitted with feature names\n",
      "  warnings.warn(\n"
     ]
    }
   ],
   "source": [
    "new_ad_spend = np.array([[150, 25, 30]]) # This is a 2D array with 3 features\n",
    "\n",
    "# Predict sales using the model trained on 3 features\n",
    "predicted_sales = model.predict(new_ad_spend)\n",
    "\n",
    "print(f\"Predicted Sales for TV={new_ad_spend[0][0]}, Radio={new_ad_spend[0][1]}, Newspaper={new_ad_spend[0][2]} spend: {predicted_sales[0]:.2f}\")\n"
   ]
  },
  {
   "cell_type": "code",
   "execution_count": null,
   "id": "46a983a6-5dab-4717-a009-0b1d074f2408",
   "metadata": {},
   "outputs": [],
   "source": []
  },
  {
   "cell_type": "code",
   "execution_count": null,
   "id": "11b93113-2642-4d6a-a5b0-db7ca0e91963",
   "metadata": {},
   "outputs": [],
   "source": []
  },
  {
   "cell_type": "code",
   "execution_count": null,
   "id": "047c27aa-2b5f-4ce9-b419-4d01e6a1e95a",
   "metadata": {},
   "outputs": [],
   "source": []
  },
  {
   "cell_type": "code",
   "execution_count": null,
   "id": "37a226b9-c2c8-4545-b80b-0a54489849cd",
   "metadata": {},
   "outputs": [],
   "source": []
  }
 ],
 "metadata": {
  "kernelspec": {
   "display_name": "Python 3 (ipykernel)",
   "language": "python",
   "name": "python3"
  },
  "language_info": {
   "codemirror_mode": {
    "name": "ipython",
    "version": 3
   },
   "file_extension": ".py",
   "mimetype": "text/x-python",
   "name": "python",
   "nbconvert_exporter": "python",
   "pygments_lexer": "ipython3",
   "version": "3.13.5"
  }
 },
 "nbformat": 4,
 "nbformat_minor": 5
}
